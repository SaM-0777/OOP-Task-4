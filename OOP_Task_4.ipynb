{
  "nbformat": 4,
  "nbformat_minor": 0,
  "metadata": {
    "colab": {
      "name": "OOP Task 4.ipynb",
      "provenance": [],
      "mount_file_id": "1lWj04fBAyT2VIO8GNmFskPcGQfNqbUob",
      "authorship_tag": "ABX9TyMU9wX/imkevWsFIVAuMhHB",
      "include_colab_link": true
    },
    "kernelspec": {
      "name": "python3",
      "display_name": "Python 3"
    },
    "language_info": {
      "name": "python"
    }
  },
  "cells": [
    {
      "cell_type": "markdown",
      "metadata": {
        "id": "view-in-github",
        "colab_type": "text"
      },
      "source": [
        "<a href=\"https://colab.research.google.com/github/Soumyaranjan2021/OOP-Task-4/blob/main/OOP_Task_4.ipynb\" target=\"_parent\"><img src=\"https://colab.research.google.com/assets/colab-badge.svg\" alt=\"Open In Colab\"/></a>"
      ]
    },
    {
      "cell_type": "code",
      "metadata": {
        "colab": {
          "base_uri": "https://localhost:8080/"
        },
        "id": "NodTTrGIZ8KG",
        "outputId": "eb6f5bba-359a-4179-c991-9b1a77a651fd"
      },
      "source": [
        "# Program 1\n",
        "class Node:\n",
        "  def __init__(self, data):\n",
        "    self.Data = data\n",
        "    self.Next = None\n",
        "class Stack(Node):\n",
        "  def __init__(self, data):\n",
        "    self.Head =  Node(data)\n",
        "  def __del__(self):\n",
        "    print('Item deleted')\n",
        "if __name__ == \"__main__\":\n",
        "  top = -1\n",
        "  s1 = Stack(10)\n",
        "  top += 1\n",
        "  s2 = Stack(20)\n",
        "  top += 1\n",
        "  s2.Next = s1\n",
        "  s3 = Stack(30)\n",
        "  top += 1\n",
        "  s3.Next = s2\n",
        "  if top == -1:\n",
        "    print(\"Empty Stack\")\n",
        "  print(\"Item Popped : \", s1.Head.Data)\n",
        "  del s1"
      ],
      "execution_count": 24,
      "outputs": [
        {
          "output_type": "stream",
          "name": "stdout",
          "text": [
            "Item deleted\n",
            "Item deleted\n",
            "Item deleted\n",
            "Item Popped :  10\n"
          ]
        }
      ]
    },
    {
      "cell_type": "code",
      "metadata": {
        "colab": {
          "base_uri": "https://localhost:8080/"
        },
        "id": "KqIgUMBbWzJ4",
        "outputId": "b759bca6-f992-4580-b087-4c2e9aadb64c"
      },
      "source": [
        "# Program 2\n",
        "\n",
        "# Parameterized constructor\n",
        "class Area(object):\n",
        "  def __init__(self, length, breadth):\n",
        "    self.length = length\n",
        "    self.breadth = breadth\n",
        "  \n",
        "  def Calculate(self):\n",
        "    print(f'Area : {self.length * self.breadth}')\n",
        "\n",
        "if __name__ == \"__main__\":\n",
        "  length, breadth = 25, 10\n",
        "  A = Area(length, breadth)\n",
        "  A.Calculate()\n",
        "\n",
        "# Default Constructor\n",
        "class Area(object):\n",
        "  def __init__(self):\n",
        "    self.length = 25.0\n",
        "    self.breadth = 10.0\n",
        "  def Calculate(self):\n",
        "    print(f'Area : {self.length * self.breadth}')\n",
        "\n",
        "if __name__ == \"__main__\":\n",
        "  A = Area()\n",
        "  A.Calculate()"
      ],
      "execution_count": 8,
      "outputs": [
        {
          "output_type": "stream",
          "name": "stdout",
          "text": [
            "Area : 250\n",
            "Area : 250.0\n"
          ]
        }
      ]
    },
    {
      "cell_type": "code",
      "metadata": {
        "colab": {
          "base_uri": "https://localhost:8080/"
        },
        "id": "Yzgaj9ImhWwd",
        "outputId": "13568606-1173-4cec-baa1-a4da4a69b60e"
      },
      "source": [
        "# Program 3\n",
        "\n",
        "class Queue:\n",
        "  def __init__(self, data):\n",
        "    self.Data = data\n",
        "    self.Next = None\n",
        "  \n",
        "  def __del__(self):\n",
        "    print(\"Item Deleted\")\n",
        "    \n",
        "\n",
        "if __name__ == \"__main__\":\n",
        "  Front = Q1 = Queue(0)\n",
        "  Q2 = Queue(10)\n",
        "  Q1.Next = Q2\n",
        "  Rear = Q3 = Queue(20)\n",
        "  Q2.Next = Q3\n",
        "\n",
        "  Temp = Front\n",
        "  while Temp.Next != Rear:\n",
        "    Temp = Temp.Next\n",
        "  Temp.Next = None\n",
        "  print(\"Poped Item : \", Rear.Data)\n",
        "  del Rear\n",
        "  Rear = Temp\n",
        "  \n",
        "\n",
        "\n",
        "  \n"
      ],
      "execution_count": 18,
      "outputs": [
        {
          "output_type": "stream",
          "name": "stdout",
          "text": [
            "Item Deleted\n",
            "Item Deleted\n",
            "Item Deleted\n",
            "Poped Item :  20\n"
          ]
        }
      ]
    }
  ]
}