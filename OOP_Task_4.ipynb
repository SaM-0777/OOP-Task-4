{
  "nbformat": 4,
  "nbformat_minor": 0,
  "metadata": {
    "colab": {
      "name": "OOP Task 4.ipynb",
      "provenance": [],
      "mount_file_id": "1lWj04fBAyT2VIO8GNmFskPcGQfNqbUob",
      "authorship_tag": "ABX9TyPb5xHVgeKTYibcMtecROFO",
      "include_colab_link": true
    },
    "kernelspec": {
      "name": "python3",
      "display_name": "Python 3"
    },
    "language_info": {
      "name": "python"
    }
  },
  "cells": [
    {
      "cell_type": "markdown",
      "metadata": {
        "id": "view-in-github",
        "colab_type": "text"
      },
      "source": [
        "<a href=\"https://colab.research.google.com/github/Soumyaranjan2021/OOP-Task-4/blob/main/OOP_Task_4.ipynb\" target=\"_parent\"><img src=\"https://colab.research.google.com/assets/colab-badge.svg\" alt=\"Open In Colab\"/></a>"
      ]
    },
    {
      "cell_type": "code",
      "metadata": {
        "colab": {
          "base_uri": "https://localhost:8080/"
        },
        "id": "NodTTrGIZ8KG",
        "outputId": "ea81171c-e6d4-451b-f219-79215495699d"
      },
      "source": [
        "# Program 1\n",
        "\n",
        "class Node:\n",
        "  def __init__(self, data):\n",
        "    self.Data = data\n",
        "    self.Next = None\n",
        "\n",
        "class Stack(Node):\n",
        "  def __init__(self):\n",
        "    self.Head =  Node(None)\n",
        "    self.top = -1\n",
        "  \n",
        "  def isEmpty(self):\n",
        "    if self.top == -1:\n",
        "      return True\n",
        "\n",
        "  def Push(self, data):\n",
        "      New_Node = Node(data)\n",
        "      New_Node.Next = None\n",
        "      self.Head.Next = New_Node\n",
        "      self.top += 1\n",
        "  \n",
        "  def Pop(self):\n",
        "    if self.isEmpty():\n",
        "      print(\"Stack is Empty\")\n",
        "    else:\n",
        "      pop_Item = self.Head.Next\n",
        "      self.Head.Next = None\n",
        "      self.top -= 1\n",
        "      print(f'Poped Item : {pop_Item.Data}')\n",
        "\n",
        "if __name__ == \"__main__\":\n",
        "  s = Stack()\n",
        "  if s.isEmpty():\n",
        "    print(\"Stack is Empty\")\n",
        "\n",
        "  for i in range(1, 5):\n",
        "    s.Push(i)\n",
        "  \n",
        "  \n",
        "  \n",
        "  s.Pop()\n",
        "  "
      ],
      "execution_count": 13,
      "outputs": [
        {
          "output_type": "stream",
          "name": "stdout",
          "text": [
            "Stack is Empty\n",
            "Poped Item : 4\n"
          ]
        }
      ]
    },
    {
      "cell_type": "code",
      "metadata": {
        "colab": {
          "base_uri": "https://localhost:8080/"
        },
        "id": "KqIgUMBbWzJ4",
        "outputId": "b759bca6-f992-4580-b087-4c2e9aadb64c"
      },
      "source": [
        "# Program 2\n",
        "\n",
        "# Parameterized constructor\n",
        "class Area(object):\n",
        "  def __init__(self, length, breadth):\n",
        "    self.length = length\n",
        "    self.breadth = breadth\n",
        "  \n",
        "  def Calculate(self):\n",
        "    print(f'Area : {self.length * self.breadth}')\n",
        "\n",
        "if __name__ == \"__main__\":\n",
        "  length, breadth = 25, 10\n",
        "  A = Area(length, breadth)\n",
        "  A.Calculate()\n",
        "\n",
        "# Default Constructor\n",
        "class Area(object):\n",
        "  def __init__(self):\n",
        "    self.length = 25.0\n",
        "    self.breadth = 10.0\n",
        "  def Calculate(self):\n",
        "    print(f'Area : {self.length * self.breadth}')\n",
        "\n",
        "if __name__ == \"__main__\":\n",
        "  A = Area()\n",
        "  A.Calculate()"
      ],
      "execution_count": 8,
      "outputs": [
        {
          "output_type": "stream",
          "name": "stdout",
          "text": [
            "Area : 250\n",
            "Area : 250.0\n"
          ]
        }
      ]
    },
    {
      "cell_type": "code",
      "metadata": {
        "id": "Yzgaj9ImhWwd"
      },
      "source": [
        "# Program 3\n",
        "class Node:\n",
        "  def __init__(self, data):\n",
        "    self.Data = data\n",
        "    self.Next = None\n",
        "\n",
        "class Queue(Node):\n",
        "  def __init__(self):\n",
        "    self.Front = Node(None)\n",
        "    self.Rear = Node(None)\n",
        "  \n",
        "  def isEmpty(self):\n",
        "    if self.Front == self.Rear and self.Front == None:\n",
        "      return True\n",
        "  \n",
        "  def Enqueue(self, data):\n",
        "    if self.isEmpty():\n",
        "      New_Node = Node(data)\n",
        "      New_Node = self.Front = self.Rear\n",
        "    else:\n",
        "      New_Node = Node(data)\n",
        "      self.Front.Next = New_Node\n",
        "      self.Rear = New_Node\n",
        "  \n",
        "  def Dequeue(self):\n",
        "    if self.isEmpty():\n",
        "      print(\"Queue is Empty\")\n",
        "      return\n",
        "    else:\n",
        "      Temp = self.Front\n",
        "      while Temp.Next != self.Rear:\n",
        "        Temp = Temp.Next\n",
        "      pop_Item = self.Rear\n",
        "      Temp.Next = None\n",
        "      self.Rear = Temp\n",
        "      print(f'Poped Item : {pop_Item.Data}')\n"
      ],
      "execution_count": null,
      "outputs": []
    }
  ]
}